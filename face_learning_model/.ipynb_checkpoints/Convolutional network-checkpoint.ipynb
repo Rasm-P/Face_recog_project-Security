{
 "cells": [
  {
   "cell_type": "code",
   "execution_count": 1,
   "metadata": {},
   "outputs": [
    {
     "name": "stderr",
     "output_type": "stream",
     "text": [
      "Using TensorFlow backend.\n"
     ]
    },
    {
     "name": "stdout",
     "output_type": "stream",
     "text": [
      "1288 125 94\n"
     ]
    }
   ],
   "source": [
    "import tensorflow as tf\n",
    "from sklearn.model_selection import train_test_split\n",
    "from sklearn.datasets import fetch_lfw_people\n",
    "import matplotlib.pyplot as plt\n",
    "import numpy as np\n",
    "from keras.utils import to_categorical\n",
    "from keras import models\n",
    "from keras import layers\n",
    "\n",
    "\n",
    "lfw_people = fetch_lfw_people(min_faces_per_person=70,  download_if_missing = True, resize=1, color=False)\n",
    "n_samples, h, w = lfw_people.images.shape\n",
    "\n",
    "X = lfw_people.data\n",
    "Y = lfw_people.target\n",
    "\n",
    "print(n_samples,h,w)\n",
    "\n",
    "x_train, x_test, y_train, y_test = train_test_split(X, Y, test_size=0.33, random_state=47)"
   ]
  },
  {
   "cell_type": "code",
   "execution_count": 2,
   "metadata": {},
   "outputs": [
    {
     "name": "stdout",
     "output_type": "stream",
     "text": [
      "(862, 11750)\n",
      "(862,)\n",
      "(426, 11750)\n",
      "(426,)\n"
     ]
    },
    {
     "data": {
      "image/png": "[encoded data removed]",
      "text/plain": [
       "<Figure size 432x288 with 1 Axes>"
      ]
     },
     "metadata": {
      "needs_background": "light"
     },
     "output_type": "display_data"
    },
    {
     "data": {
      "text/plain": [
       "array([3, 6, 5, 3, 3, 3, 3, 3, 3, 3, 3, 3, 6, 4, 4, 1, 3, 3, 3, 5, 1, 6,\n",
       "       1, 1, 3, 1, 1, 6, 3, 3, 2, 3, 3, 0, 3, 1, 3, 3, 4, 3, 5, 3, 4, 3,\n",
       "       0, 4, 1, 3, 1, 5, 3, 3, 0, 3, 3, 5, 1, 2, 4, 0, 1, 3, 1, 1, 1, 6,\n",
       "       5, 1, 1, 0, 6, 2, 1, 2, 3, 3, 6, 3, 2, 5, 3, 1, 1, 3, 0, 3, 3, 2,\n",
       "       3, 0, 4, 3, 3, 2, 3, 3, 3, 1, 2, 6, 3, 2, 3, 3, 3, 3, 1, 3, 4, 4,\n",
       "       3, 2, 3, 1, 3, 3, 3, 2, 4, 5, 6, 3, 1, 3, 1, 0, 3, 1, 2, 3, 6, 1,\n",
       "       1, 1, 4, 6, 3, 3, 1, 5, 6, 3, 3, 3, 5, 3, 3, 3, 6, 3, 2, 3, 1, 6,\n",
       "       3, 1, 3, 3, 3, 2, 3, 3, 1, 3, 3, 3, 1, 5, 2, 5, 3, 6, 1, 4, 3, 3,\n",
       "       3, 4, 3, 1, 6, 6, 5, 1, 3, 0, 3, 3, 3, 3, 3, 3, 0, 1, 1, 3, 1, 3,\n",
       "       0, 3, 1, 4, 2, 5, 3, 3, 0, 3, 1, 3, 3, 1, 6, 1, 1, 6, 0, 3, 3, 0,\n",
       "       3, 6, 4, 5, 1, 6, 3, 3, 2, 3, 0, 1, 1, 3, 3, 0, 3, 3, 4, 3, 6, 5,\n",
       "       0, 4, 2, 6, 4, 1, 1, 4, 4, 0, 1, 3, 3, 3, 3, 4, 3, 1, 1, 3, 3, 1,\n",
       "       1, 3, 2, 2, 3, 3, 1, 2, 3, 3, 2, 3, 6, 3, 2, 1, 6, 3, 1, 3, 3, 5,\n",
       "       2, 2, 3, 3, 1, 6, 0, 3, 0, 2, 3, 2, 1, 0, 3, 2, 3, 3, 6, 6, 3, 3,\n",
       "       0, 2, 5, 6, 1, 3, 1, 0, 1, 0, 1, 1, 3, 6, 2, 6, 3, 3, 3, 0, 3, 3,\n",
       "       3, 4, 3, 2, 2, 3, 5, 3, 1, 5, 1, 3, 1, 3, 3, 0, 1, 3, 4, 3, 1, 0,\n",
       "       6, 4, 3, 1, 6, 4, 4, 2, 4, 2, 3, 5, 3, 4, 6, 3, 3, 1, 3, 3, 3, 3,\n",
       "       4, 6, 1, 3, 3, 3, 1, 2, 2, 1, 3, 3, 3, 3, 5, 0, 3, 3, 5, 3, 3, 6,\n",
       "       3, 1, 0, 3, 1, 3, 2, 3, 5, 2, 6, 3, 3, 4, 3, 1, 3, 3, 6, 1, 3, 6,\n",
       "       3, 3, 6, 4, 3, 3, 6, 3], dtype=int64)"
      ]
     },
     "execution_count": 2,
     "metadata": {},
     "output_type": "execute_result"
    }
   ],
   "source": [
    "print(x_train.shape)\n",
    "print(y_train.shape)\n",
    "\n",
    "print(x_test.shape)\n",
    "print(y_test.shape)\n",
    "\n",
    "x_train = x_train.reshape(x_train.shape[0],h,w,1)\n",
    "x_train = x_train.astype('float32')\n",
    "x_train = x_train/255\n",
    "\n",
    "x_test = x_test.reshape(x_test.shape[0],h,w,1)\n",
    "x_test = x_test.astype('float32')\n",
    "x_test = x_test/255\n",
    "\n",
    "x,y,r = x_test[5].shape\n",
    "plt.imshow(x_test[5].reshape(x,y), cmap='gray')\n",
    "plt.show()\n",
    "y_test"
   ]
  },
  {
   "cell_type": "code",
   "execution_count": 3,
   "metadata": {},
   "outputs": [
    {
     "data": {
      "text/plain": [
       "array([[0., 0., 0., ..., 0., 0., 0.],\n",
       "       [0., 0., 0., ..., 0., 0., 1.],\n",
       "       [0., 0., 0., ..., 0., 1., 0.],\n",
       "       ...,\n",
       "       [0., 0., 0., ..., 0., 0., 0.],\n",
       "       [0., 0., 0., ..., 0., 0., 1.],\n",
       "       [0., 0., 0., ..., 0., 0., 0.]], dtype=float32)"
      ]
     },
     "execution_count": 3,
     "metadata": {},
     "output_type": "execute_result"
    }
   ],
   "source": [
    "classes = {\n",
    "  0: 'target0',\n",
    "    1: 'target1',\n",
    "    2: 'target2',\n",
    "    3: 'target3',\n",
    "    4: 'target4',\n",
    "    5: 'target5',\n",
    "    6: 'target6'\n",
    "}\n",
    "\n",
    "num_classes = len(classes)\n",
    "y_train = to_categorical(y_train,num_classes)\n",
    "y_test = to_categorical(y_test,num_classes)\n",
    "y_test"
   ]
  },
  {
   "cell_type": "code",
   "execution_count": 4,
   "metadata": {},
   "outputs": [
    {
     "name": "stdout",
     "output_type": "stream",
     "text": [
      "Model: \"sequential_1\"\n",
      "_________________________________________________________________\n",
      "Layer (type)                 Output Shape              Param #   \n",
      "=================================================================\n",
      "conv2d_1 (Conv2D)            (None, 123, 92, 32)       320       \n",
      "_________________________________________________________________\n",
      "max_pooling2d_1 (MaxPooling2 (None, 61, 46, 32)        0         \n",
      "_________________________________________________________________\n",
      "conv2d_2 (Conv2D)            (None, 59, 44, 64)        18496     \n",
      "_________________________________________________________________\n",
      "max_pooling2d_2 (MaxPooling2 (None, 29, 22, 64)        0         \n",
      "_________________________________________________________________\n",
      "conv2d_3 (Conv2D)            (None, 27, 20, 64)        36928     \n",
      "_________________________________________________________________\n",
      "flatten_1 (Flatten)          (None, 34560)             0         \n",
      "_________________________________________________________________\n",
      "dense_1 (Dense)              (None, 64)                2211904   \n",
      "_________________________________________________________________\n",
      "dense_2 (Dense)              (None, 7)                 455       \n",
      "=================================================================\n",
      "Total params: 2,268,103\n",
      "Trainable params: 2,268,103\n",
      "Non-trainable params: 0\n",
      "_________________________________________________________________\n",
      "Train on 775 samples, validate on 87 samples\n",
      "Epoch 1/8\n",
      "775/775 [==============================] - 4s 6ms/step - loss: 2.3787 - accuracy: 0.3161 - val_loss: 1.7628 - val_accuracy: 0.3678\n",
      "Epoch 2/8\n",
      "775/775 [==============================] - 4s 5ms/step - loss: 1.7161 - accuracy: 0.4039 - val_loss: 1.8685 - val_accuracy: 0.2069\n",
      "Epoch 3/8\n",
      "775/775 [==============================] - 4s 5ms/step - loss: 1.7175 - accuracy: 0.3510 - val_loss: 1.8102 - val_accuracy: 0.3678\n",
      "Epoch 4/8\n",
      "775/775 [==============================] - 4s 5ms/step - loss: 1.7233 - accuracy: 0.3884 - val_loss: 1.7730 - val_accuracy: 0.3793\n",
      "Epoch 5/8\n",
      "775/775 [==============================] - 4s 5ms/step - loss: 1.5773 - accuracy: 0.4516 - val_loss: 1.6432 - val_accuracy: 0.4713\n",
      "Epoch 6/8\n",
      "775/775 [==============================] - 4s 5ms/step - loss: 1.4124 - accuracy: 0.4761 - val_loss: 1.5306 - val_accuracy: 0.4023\n",
      "Epoch 7/8\n",
      "775/775 [==============================] - 4s 5ms/step - loss: 1.2591 - accuracy: 0.5561 - val_loss: 2.9245 - val_accuracy: 0.1724\n",
      "Epoch 8/8\n",
      "775/775 [==============================] - 4s 5ms/step - loss: 1.2295 - accuracy: 0.5497 - val_loss: 1.1148 - val_accuracy: 0.5862\n"
     ]
    },
    {
     "data": {
      "text/plain": [
       "<keras.callbacks.callbacks.History at 0x1c48d8d3708>"
      ]
     },
     "execution_count": 4,
     "metadata": {},
     "output_type": "execute_result"
    }
   ],
   "source": [
    "model = models.Sequential()\n",
    "\n",
    "model.add(layers.Conv2D(32, (3,3), activation='relu',input_shape=(125, 94, 1)))\n",
    "model.add(layers.MaxPool2D((2,2)))\n",
    "model.add(layers.Conv2D(64,(3,3),activation='relu')) \n",
    "model.add(layers.MaxPool2D((2,2)))\n",
    "model.add(layers.Conv2D(64,(3,3),activation='relu'))\n",
    "model.add(layers.Flatten())\n",
    "model.add(layers.Dense(64, activation='relu'))\n",
    "model.add(layers.Dense(7, activation='softmax')) \n",
    "\n",
    "model.summary()\n",
    "\n",
    "model.compile(loss='categorical_crossentropy',\n",
    "             optimizer='rmsprop',\n",
    "             metrics=['accuracy'],\n",
    "             )\n",
    "model.fit(x_train,\n",
    "         y_train,\n",
    "         epochs=8,\n",
    "         verbose=True,\n",
    "         batch_size=64,\n",
    "         validation_split=0.1)"
   ]
  },
  {
   "cell_type": "code",
   "execution_count": 5,
   "metadata": {},
   "outputs": [
    {
     "name": "stdout",
     "output_type": "stream",
     "text": [
      "426/426 [==============================] - 1s 2ms/step\n",
      "Val_acc: 0.6384976506233215\n"
     ]
    }
   ],
   "source": [
    "val_loss, val_acc = model.evaluate(x_test, y_test) #Calculate validation loss and validation accuracy\n",
    "print('Val_acc:', val_acc) "
   ]
  },
  {
   "cell_type": "code",
   "execution_count": 6,
   "metadata": {
    "scrolled": true
   },
   "outputs": [],
   "source": [
    "model.save('self-trained models/Convolutional_network.model')"
   ]
  },
  {
   "cell_type": "code",
   "execution_count": 7,
   "metadata": {},
   "outputs": [],
   "source": [
    "new_model = tf.keras.models.load_model('self-trained models/Convolutional_network.model')"
   ]
  },
  {
   "cell_type": "code",
   "execution_count": 8,
   "metadata": {},
   "outputs": [],
   "source": [
    "predictions = new_model.predict(x_test)"
   ]
  },
  {
   "cell_type": "code",
   "execution_count": 9,
   "metadata": {},
   "outputs": [
    {
     "name": "stdout",
     "output_type": "stream",
     "text": [
      "Index prediction: 3\n",
      "Class prediction: target3\n"
     ]
    }
   ],
   "source": [
    "pred = np.argmax(predictions[0])\n",
    "\n",
    "print('Index prediction:', pred)\n",
    "print('Class prediction:', classes[pred])"
   ]
  },
  {
   "cell_type": "code",
   "execution_count": 10,
   "metadata": {},
   "outputs": [
    {
     "data": {
      "image/png": "[encoded data removed]",
      "text/plain": [
       "<Figure size 432x288 with 1 Axes>"
      ]
     },
     "metadata": {
      "needs_background": "light"
     },
     "output_type": "display_data"
    },
    {
     "name": "stdout",
     "output_type": "stream",
     "text": [
      "Actual index: 3\n",
      "One-hot value: 1.0\n",
      "Actual Class: target3\n"
     ]
    }
   ],
   "source": [
    "x,y,_ = x_test[0].shape\n",
    "plt.imshow(x_test[0].reshape(x,y), cmap='gray')\n",
    "plt.show()\n",
    "\n",
    "index, value = max(enumerate(y_test[0]), key=lambda e: e[1])\n",
    "print('Actual index:', index)\n",
    "print('One-hot value:', value)\n",
    "print('Actual Class:', classes[index])"
   ]
  },
  {
   "cell_type": "code",
   "execution_count": null,
   "metadata": {},
   "outputs": [],
   "source": []
  }
 ],
 "metadata": {
  "kernelspec": {
   "display_name": "Python 3",
   "language": "python",
   "name": "python3"
  },
  "language_info": {
   "codemirror_mode": {
    "name": "ipython",
    "version": 3
   },
   "file_extension": ".py",
   "mimetype": "text/x-python",
   "name": "python",
   "nbconvert_exporter": "python",
   "pygments_lexer": "ipython3",
   "version": "3.7.4"
  }
 },
 "nbformat": 4,
 "nbformat_minor": 2
}
